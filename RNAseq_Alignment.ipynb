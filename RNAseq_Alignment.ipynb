{
 "cells": [
  {
   "cell_type": "markdown",
   "metadata": {},
   "source": [
    "Software used:"
   ]
  },
  {
   "cell_type": "code",
   "execution_count": null,
   "metadata": {},
   "outputs": [],
   "source": [
    "#Java\n",
    "java -version\n",
    "\n",
    "\n",
    "\n",
    "\n",
    "tmap:   torrent mapper\n",
    "Version: 3.0.1 git:8ff2c132f80417d27a0f6007d06641cb80b87dd9\n",
    "Web Site: http://github.com/iontorrent/tmap\n",
    "Contact: nils.homer@lifetech.com\n"
   ]
  },
  {
   "cell_type": "code",
   "execution_count": null,
   "metadata": {},
   "outputs": [],
   "source": [
    "java version \"1.8.0_191\"\n",
    "Java(TM) SE Runtime Environment (build 1.8.0_191-b12)\n",
    "Java HotSpot(TM) 64-Bit Server VM (build 25.191-b12, mixed mode)"
   ]
  },
  {
   "cell_type": "code",
   "execution_count": null,
   "metadata": {},
   "outputs": [],
   "source": [
    "#TMAP\n",
    "tmap -v"
   ]
  },
  {
   "cell_type": "markdown",
   "metadata": {},
   "source": [
    "tmap:   torrent mapper\n",
    "Version: 3.0.1 git:8ff2c132f80417d27a0f6007d06641cb80b87dd9\n",
    "Web Site: http://github.com/iontorrent/tmap\n",
    "Contact: nils.homer@lifetech.com"
   ]
  },
  {
   "cell_type": "code",
   "execution_count": null,
   "metadata": {},
   "outputs": [],
   "source": [
    "#HTSeq\n",
    "sudo pip install HTSeq"
   ]
  },
  {
   "cell_type": "code",
   "execution_count": null,
   "metadata": {},
   "outputs": [],
   "source": [
    "#Deeptools\n",
    "deeptools --version\n",
    "#deeptools 3.1.3\n"
   ]
  },
  {
   "cell_type": "code",
   "execution_count": null,
   "metadata": {},
   "outputs": [],
   "source": [
    "#R\n",
    "#R version 3.2.3 (2015-12-10) -- \"Wooden Christmas-Tree\"\n"
   ]
  },
  {
   "cell_type": "code",
   "execution_count": null,
   "metadata": {},
   "outputs": [],
   "source": [
    "#DESeq2\n",
    "#Bioconductor version 3.2 (BiocInstaller 1.20.3)\n",
    "sudo R\n",
    "> source(\"http://bioconductor.org/biocLite.R\")\n",
    "> biocLite()\n",
    "> biocLite(\"DESeq2\")"
   ]
  },
  {
   "cell_type": "markdown",
   "metadata": {},
   "source": [
    "In this practice we will analyze 4 samples from the cyanobacterium Synechocystis SP. PCC 6803\n",
    "grown in ammonium (NH4; 2 samples) and after transition to low nitrogen media (N2; 2 samples)\n",
    "previously published in this work (Identification of the direct regulon of NtcA during early\n",
    "acclimation to nitrogen starvation in the cyanobacterium Synechocystis sp. PCC6803. 2017.\n",
    "Nucleic Acids Research).\n",
    "\n",
    "In this practice we are going to align the fastq files to Synechocystis genome, and perform the Differential Expression analysis of NH4 and N2 samples."
   ]
  },
  {
   "cell_type": "markdown",
   "metadata": {},
   "source": [
    "All the innitial files are located in \n",
    "https://zenodo.org/record/1466050#.W9I_fBQpDLF"
   ]
  },
  {
   "cell_type": "markdown",
   "metadata": {},
   "source": [
    "Alignment of the reads to the genome using TMAP.\n",
    "The reference genome for Synechocystis sp. PCC 6803 has the GenBank assembly accession\n",
    "number:\n",
    "GCA_000009725.1;\n",
    "RefSeq: NC_009911.1. \n",
    "\n",
    "In our case, the genome file is NC_009911.1.fasta. This genome file is available on the Zenodo tutorial page together the fastq\n",
    "files for the RNAseq analysis. These fastq files were obtained from an Ion Torren Sequencer.\n",
    "\n",
    "This NGS technology use their own software to map their reads and others common programs\n",
    "such as bwa or bowtie2 don ́t work with Ion torrent fastq files. Thus, for each sample, we will map\n",
    "the FastQ files to the reference genome using the TMAP program."
   ]
  },
  {
   "cell_type": "markdown",
   "metadata": {},
   "source": [
    "The code below is also included in file that can be executed in bash, first it needs a permission to execute"
   ]
  },
  {
   "cell_type": "code",
   "execution_count": null,
   "metadata": {},
   "outputs": [],
   "source": [
    "chmod +x mapping.sh"
   ]
  },
  {
   "cell_type": "code",
   "execution_count": null,
   "metadata": {},
   "outputs": [],
   "source": [
    "#!/bin/bash\n",
    "\n",
    "#doing the index of the genome\n",
    "tmap index -f /home/osboxes/upm/Genomicos/Practica3solo/original_files/NC_000911.1.fasta\n",
    "\n",
    "#Create new Directory to store Aligned sam files\n",
    "mkdir Aligned_sam\n",
    "\n",
    "#map the fastq files agianst genome and create sam file stored in a directory created previously\n",
    "tmap mapall -f /home/osboxes/upm/Genomicos/Practica3solo/original_files/NC_000911.1.fasta -r /home/osboxes/upm/Genomicos/Practica3solo/original_files/NH4_1.fastq -v stage1 map1 map2 map3 > /home/osboxes/upm/Genomicos/Practica3solo/Aligned_sam/aligned_NH4_1.sam\n",
    "\n",
    "tmap mapall -f /home/osboxes/upm/Genomicos/Practica3solo/original_files/NC_000911.1.fasta -r /home/osboxes/upm/Genomicos/Practica3solo/original_files/NH4_2.fastq -v stage1 map1 map2 map3 > /home/osboxes/upm/Genomicos/Practica3solo/Aligned_sam/aligned_NH4_2.sam\n",
    "\n",
    "tmap mapall -f /home/osboxes/upm/Genomicos/Practica3solo/original_files/NC_000911.1.fasta -r /home/osboxes/upm/Genomicos/Practica3solo/original_files/N2_1.fastq -v stage1 map1 map2 map3 > /home/osboxes/upm/Genomicos/Practica3solo/Aligned_sam/aligned_N2_1.sam\n",
    "\n",
    "tmap mapall -f /home/osboxes/upm/Genomicos/Practica3solo/original_files/NC_000911.1.fasta -r /home/osboxes/upm/Genomicos/Practica3solo/original_files/N2_2.fastq -v stage1 map1 map2 map3 > /home/osboxes/upm/Genomicos/Practica3solo/Aligned_sam/aligned_N2_2.sam\n",
    "\n",
    "\n",
    "# ahora haz cat tmap mapping.sh\n",
    "#intenta guardar la -version del software\n",
    "\n"
   ]
  },
  {
   "cell_type": "markdown",
   "metadata": {},
   "source": [
    "Convert the SAM formats into BAM format, using SAMTOOLS.\n",
    "\t\n",
    "To analyze our alignment reads, we need to transform the format of the SAM file obtained from\n",
    "TMAP to work more efficiently with the aligned reads. SAM format files are very large files and\n",
    "have to be converted into a Binary Alignment Map (.BAM) format."
   ]
  },
  {
   "cell_type": "code",
   "execution_count": null,
   "metadata": {},
   "outputs": [],
   "source": [
    "\n",
    "\n",
    "mkdir Aligned_bam\n",
    "mkdir Aligned_sorted_bam\n",
    "\n",
    "samtools view -bS aligned_NH4_1.sam > aligned_NH4_1.bam\n",
    "samtools view -bS aligned_NH4_2.sam > aligned_NH4_2.bam\n",
    "samtools view -bS aligned_N2_1.sam > aligned_N2_1.bam\n",
    "samtools view -bS aligned_N2_2.sam > aligned_N2_2.bam\n",
    "\n",
    "\n",
    "\n",
    "mv /home/osboxes/upm/Genomicos/Practica3solo/Aligned_sam/aligned_NH4_1.bam /home/osboxes/upm/Genomicos/Practica3solo/Aligned_bam/\n",
    "mv /home/osboxes/upm/Genomicos/Practica3solo/Aligned_sam/aligned_NH4_2.bam /home/osboxes/upm/Genomicos/Practica3solo/Aligned_bam/\n",
    "mv /home/osboxes/upm/Genomicos/Practica3solo/Aligned_sam/aligned_N2_1.bam /home/osboxes/upm/Genomicos/Practica3solo/Aligned_bam/\n",
    "mv /home/osboxes/upm/Genomicos/Practica3solo/Aligned_sam/aligned_N2_2.bam /home/osboxes/upm/Genomicos/Practica3solo/Aligned_bam/\n",
    "\n",
    "samtools sort /home/osboxes/upm/Genomicos/Practica3solo/Aligned_bam/aligned_NH4_1.bam /home/osboxes/upm/Genomicos/Practica3solo/Aligned_sorted_bam/aligned_NH4_1_sorted\n",
    "samtools index /home/osboxes/upm/Genomicos/Practica3solo/Aligned_sorted_bam/aligned_NH4_1_sorted.bam\n",
    "\n",
    "samtools sort /home/osboxes/upm/Genomicos/Practica3solo/Aligned_bam/aligned_NH4_2.bam /home/osboxes/upm/Genomicos/Practica3solo/Aligned_sorted_bam/aligned_NH4_2_sorted\n",
    "samtools index /home/osboxes/upm/Genomicos/Practica3solo/Aligned_sorted_bam/aligned_NH4_2_sorted.bam\n",
    "\n",
    "samtools sort /home/osboxes/upm/Genomicos/Practica3solo/Aligned_bam/aligned_N2_1.bam /home/osboxes/upm/Genomicos/Practica3solo/Aligned_sorted_bam/aligned_N2_1_sorted\n",
    "samtools index /home/osboxes/upm/Genomicos/Practica3solo/Aligned_sorted_bam/aligned_N2_1_sorted.bam\n",
    "\n",
    "samtools sort /home/osboxes/upm/Genomicos/Practica3solo/Aligned_bam/aligned_N2_2.bam /home/osboxes/upm/Genomicos/Practica3solo/Aligned_sorted_bam/aligned_N2_2_sorted\n",
    "samtools index /home/osboxes/upm/Genomicos/Practica3solo/Aligned_sorted_bam/aligned_N2_2_sorted.bam"
   ]
  },
  {
   "cell_type": "markdown",
   "metadata": {},
   "source": [
    "BAM files normalization and transformation in BigWig files.\n",
    "Bam files are still large files and the inspection of these files using a genome browser like IGV\n",
    "could demand high amount of memory on local machine. To solve this problem, we used the\n",
    "Bamcoverage utility from Deeptools3 suite. This tool takes an alignment of reads or fragments as\n",
    "input (BAM file) and generates a coverage track (bigWig or bedGraph) as output. bigWig files are\n",
    "smaller compare to BAM files facilitating the simultaneous loading of multiple RNA-seq tracks in\n",
    "IGV simultaneously (Figure 3). In addition, Bamcoverage allows to normalize all the RNA-seq\n",
    "files (using different methods, i.e. Reads Per Kilobase per Million mapped reads (RPKM))\n",
    "necessary to compare the enriched peaks from samples with different sequencing depths (i.e.\n",
    "different number of reads). The bigWig normalized files generated by Bamcoverage can be loadMaster in Computational Biology 2018-2019\n",
    "Universidad Politécnica de Madrid\n",
    "in IGV to inspect and analyze the aligned reads. IGV requires to load the genomes in a special\n",
    "format file (visit http://software.broadinstitute.org/software/igv/LoadGenome to get information\n",
    "about how to create and load genome files in IGV)."
   ]
  },
  {
   "cell_type": "code",
   "execution_count": null,
   "metadata": {},
   "outputs": [],
   "source": [
    "mkdir bigwig_files\n",
    "bamCoverage -b /home/osboxes/upm/Genomicos/Practica3solo/Aligned_sorted_bam/aligned_NH4_1_sorted.bam -o /home/osboxes/upm/Genomicos/Practica3solo/bigwig_files/NH4_1.bw --normalizeUsing RPKM\n",
    "bamCoverage -b /home/osboxes/upm/Genomicos/Practica3solo/Aligned_sorted_bam/aligned_NH4_2_sorted.bam -o /home/osboxes/upm/Genomicos/Practica3solo/bigwig_files/NH4_2.bw --normalizeUsing RPKM\n",
    "bamCoverage -b /home/osboxes/upm/Genomicos/Practica3solo/Aligned_sorted_bam/aligned_N2_1_sorted.bam -o /home/osboxes/upm/Genomicos/Practica3solo/bigwig_files/N_1.bw --normalizeUsing RPKM\n",
    "bamCoverage -b /home/osboxes/upm/Genomicos/Practica3solo/Aligned_sorted_bam/aligned_N2_2_sorted.bam -o /home/osboxes/upm/Genomicos/Practica3solo/bigwig_files/N_2.bw --normalizeUsing RPKM"
   ]
  },
  {
   "cell_type": "markdown",
   "metadata": {},
   "source": [
    "Expression. Calculate raw counts with HTSseq-count\n",
    "Run htseq-count to produce raw counts instead of FPKM/TPM values for differential expression\n",
    "analysis\n",
    "We want to use locus_tag column as ID and we are interested in the \"gene\" feature"
   ]
  },
  {
   "cell_type": "code",
   "execution_count": null,
   "metadata": {},
   "outputs": [],
   "source": [
    "mkdir count_files\n",
    "htseq-count -m union -i locus_tag -t gene -f bam -r pos /home/osboxes/upm/Genomicos/Practica3solo/Aligned_sorted_bam/aligned_NH4_1_sorted.bam /home/osboxes/upm/Genomicos/Practica3solo/original_files/NC_000911.1.gff > /home/osboxes/upm/Genomicos/Practica3solo/count_files/NH4_1.count\n",
    "htseq-count -m union -i locus_tag -t gene -f bam -r pos /home/osboxes/upm/Genomicos/Practica3solo/Aligned_sorted_bam/aligned_NH4_1_sorted.bam /home/osboxes/upm/Genomicos/Practica3solo/original_files/NC_000911.1.gff > /home/osboxes/upm/Genomicos/Practica3solo/count_files/NH4_2.count\n",
    "htseq-count -m union -i locus_tag -t gene -f bam -r pos /home/osboxes/upm/Genomicos/Practica3solo/Aligned_sorted_bam/aligned_NH4_1_sorted.bam /home/osboxes/upm/Genomicos/Practica3solo/original_files/NC_000911.1.gff > /home/osboxes/upm/Genomicos/Practica3solo/count_files/N2_1.count\n",
    "htseq-count -m union -i locus_tag -t gene -f bam -r pos /home/osboxes/upm/Genomicos/Practica3solo/Aligned_sorted_bam/aligned_NH4_1_sorted.bam /home/osboxes/upm/Genomicos/Practica3solo/original_files/NC_000911.1.gff > /home/osboxes/upm/Genomicos/Practica3solo/count_files/N2_2.count"
   ]
  }
 ],
 "metadata": {
  "kernelspec": {
   "display_name": "Bash",
   "language": "bash",
   "name": "bash"
  },
  "language_info": {
   "codemirror_mode": "shell",
   "file_extension": ".sh",
   "mimetype": "text/x-sh",
   "name": "bash"
  }
 },
 "nbformat": 4,
 "nbformat_minor": 2
}
